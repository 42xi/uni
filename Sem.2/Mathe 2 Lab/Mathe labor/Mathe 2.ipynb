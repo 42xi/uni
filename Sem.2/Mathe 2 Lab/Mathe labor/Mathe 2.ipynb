{
 "cells": [
  {
   "cell_type": "code",
   "execution_count": 1,
   "id": "a9cb9314",
   "metadata": {},
   "outputs": [
    {
     "name": "stdout",
     "output_type": "stream",
     "text": [
      "Näherungswert des Integrals: 0.24488788718025584\n"
     ]
    }
   ],
   "source": [
    "from scipy import integrate\n",
    "import numpy as np\n",
    "\n",
    "# Definiere die Funktion\n",
    "def f(x):\n",
    "    return np.exp(-x**2)\n",
    "\n",
    "# Berechne das bestimmte Integral von 0 bis 0.25\n",
    "result, error = integrate.quad(f, 0, 0.25)\n",
    "\n",
    "# Gib das Ergebnis aus\n",
    "print(\"Näherungswert des Integrals:\", result)\n"
   ]
  }
 ],
 "metadata": {
  "kernelspec": {
   "display_name": "Python 3 (ipykernel)",
   "language": "python",
   "name": "python3"
  },
  "language_info": {
   "codemirror_mode": {
    "name": "ipython",
    "version": 3
   },
   "file_extension": ".py",
   "mimetype": "text/x-python",
   "name": "python",
   "nbconvert_exporter": "python",
   "pygments_lexer": "ipython3",
   "version": "3.11.5"
  }
 },
 "nbformat": 4,
 "nbformat_minor": 5
}
